{
 "cells": [
  {
   "cell_type": "markdown",
   "metadata": {},
   "source": [
    "test examples: https://github.com/Azure/CSContainers/blob/master/Project-Archon/private-preview/Shelf-Analysis/cpg-privatepreview-api-tutorial.md "
   ]
  },
  {
   "cell_type": "code",
   "execution_count": 73,
   "metadata": {},
   "outputs": [],
   "source": [
    "import os \n",
    "from urllib.parse import urljoin"
   ]
  },
  {
   "cell_type": "code",
   "execution_count": 74,
   "metadata": {},
   "outputs": [],
   "source": [
    "api_endpoint = os.environ.get('api_endpoint', 'https://<region>.api.cognitive.microsoft.com/')\n",
    "api_key = os.environ.get('api_key', '12233344445555566666677777779999')\n",
    "\n",
    "\n",
    "api_datasets = '/vision/v4.0-preview.1/datasets'\n",
    "api_imagenalysis = '/vision/v4.0-preview.1/operations/shelfanalysis-productunderstanding:analyze'\n",
    "api_imagerectify = '/vision/v4.0-preview.1/operations/shelfanalysis-productunderstanding:rectify'\n",
    "\n",
    "\n",
    "stitched_image = 'https://godzillasinastorage.blob.core.windows.net/cv4/stitched-rectified2.png'\n",
    "long_shelve = 'https://godzillasinastorage.blob.core.windows.net/cv4/long_shelve.jpg'"
   ]
  },
  {
   "cell_type": "code",
   "execution_count": 75,
   "metadata": {},
   "outputs": [],
   "source": [
    "# image analysis \n",
    "# https://github.com/Azure/CSContainers/blob/master/Project-Archon/private-preview/Shelf-Analysis/cpg-privatepreview-apis-operations.md#v40-preview1operationsshelfanalysis-productunderstandinganalyze\n",
    "\n",
    "import requests\n",
    "request = {\n",
    "             \"url\": stitched_image\n",
    "}\n",
    "\n",
    "api_endpoint = 'https://eastus.api.cognitive.microsoft.com/vision/v4.0-preview.1/operations/shelfanalysis-productunderstanding:analyze'\n",
    "# post request to imageanaylsis\n",
    "response = requests.post(urljoin(api_endpoint,api_imagenalysis), headers={'Ocp-Apim-Subscription-Key': api_key}, json=request)\n"
   ]
  },
  {
   "cell_type": "code",
   "execution_count": 76,
   "metadata": {},
   "outputs": [
    {
     "name": "stdout",
     "output_type": "stream",
     "text": [
      "b'{\"imageMetadata\":{\"width\":2063,\"height\":1538},\"products\":[{\"id\":\"1\",\"boundingBox\":{\"x\":1518,\"y\":1235,\"w\":144,\"h\":162},\"classifications\":[{\"confidence\":0.9701688,\"label\":\"product\"}]},{\"id\":\"2\",\"boundingBox\":{\"x\":303,\"y\":1263,\"w\":147,\"h\":139},\"classifications\":[{\"confidence\":0.96984136,\"label\":\"product\"}]},{\"id\":\"3\",\"boundingBox\":{\"x\":101,\"y\":339,\"w\":79,\"h\":150},\"classifications\":[{\"confidence\":0.96909773,\"label\":\"product\"}]},{\"id\":\"4\",\"boundingBox\":{\"x\":1663,\"y\":1020,\"w\":81,\"h\":167},\"classifications\":[{\"confidence\":0.9688566,\"label\":\"product\"}]},{\"id\":\"5\",\"boundingBox\":{\"x\":429,\"y\":1056,\"w\":150,\"h\":139},\"classifications\":[{\"confidence\":0.9686272,\"label\":\"product\"}]},{\"id\":\"6\",\"boundingBox\":{\"x\":1038,\"y\":565,\"w\":88,\"h\":141},\"classifications\":[{\"confidence\":0.9665815,\"label\":\"product\"}]},{\"id\":\"7\",\"boundingBox\":{\"x\":254,\"y\":334,\"w\":81,\"h\":151},\"classifications\":[{\"confidence\":0.9647248,\"label\":\"product\"}]},{\"id\":\"8\",\"boundingBox\":{\"x\":671,\"y\":323,\"w\":83,\"h\":153},\"classifications\":[{\"confidence\":0.9646417,\"label\":\"product\"}]},{\"id\":\"9\",\"boundingBox\":{\"x\":1743,\"y\":1022,\"w\":82,\"h\":165},\"classifications\":[{\"confidence\":0.96462744,\"label\":\"product\"}]},{\"id\":\"10\",\"boundingBox\":{\"x\":1740,\"y\":516,\"w\":92,\"h\":177},\"classifications\":[{\"confidence\":0.9645294,\"label\":\"product\"}]},{\"id\":\"11\",\"boundingBox\":{\"x\":1570,\"y\":520,\"w\":88,\"h\":177},\"classifications\":[{\"confidence\":0.9643588,\"label\":\"product\"}]},{\"id\":\"12\",\"boundingBox\":{\"x\":340,\"y\":332,\"w\":84,\"h\":152},\"classifications\":[{\"confidence\":0.9638954,\"label\":\"product\"}]},{\"id\":\"13\",\"boundingBox\":{\"x\":1126,\"y\":564,\"w\":89,\"h\":139},\"classifications\":[{\"confidence\":0.96264887,\"label\":\"product\"}]},{\"id\":\"14\",\"boundingBox\":{\"x\":1547,\"y\":275,\"w\":89,\"h\":183},\"classifications\":[{\"confidence\":0.9619888,\"label\":\"product\"}]},{\"id\":\"15\",\"boundingBox\":{\"x\":1488,\"y\":524,\"w\":83,\"h\":174},\"classifications\":[{\"confidence\":0.9614764,\"label\":\"product\"}]},{\"id\":\"16\",\"boundingBox\":{\"x\":723,\"y\":1059,\"w\":160,\"h\":130},\"classifications\":[{\"confidence\":0.9614616,\"label\":\"product\"}]},{\"id\":\"17\",\"boundingBox\":{\"x\":1543,\"y\":775,\"w\":91,\"h\":171},\"classifications\":[{\"confidence\":0.96121126,\"label\":\"product\"}]},{\"id\":\"18\",\"boundingBox\":{\"x\":1632,\"y\":275,\"w\":91,\"h\":182},\"classifications\":[{\"confidence\":0.96062344,\"label\":\"product\"}]},{\"id\":\"19\",\"boundingBox\":{\"x\":1718,\"y\":269,\"w\":93,\"h\":184},\"classifications\":[{\"confidence\":0.95976907,\"label\":\"product\"}]},{\"id\":\"20\",\"boundingBox\":{\"x\":424,\"y\":332,\"w\":81,\"h\":151},\"classifications\":[{\"confidence\":0.9597484,\"label\":\"product\"}]},{\"id\":\"21\",\"boundingBox\":{\"x\":1203,\"y\":813,\"w\":81,\"h\":138},\"classifications\":[{\"confidence\":0.9594944,\"label\":\"product\"}]},{\"id\":\"22\",\"boundingBox\":{\"x\":495,\"y\":95,\"w\":81,\"h\":155},\"classifications\":[{\"confidence\":0.95933276,\"label\":\"product\"}]},{\"id\":\"23\",\"boundingBox\":{\"x\":1462,\"y\":279,\"w\":84,\"h\":182},\"classifications\":[{\"confidence\":0.95903754,\"label\":\"product\"}]},{\"id\":\"24\",\"boundingBox\":{\"x\":1456,\"y\":773,\"w\":89,\"h\":174},\"classifications\":[{\"confidence\":0.9589748,\"label\":\"product\"}]},{\"id\":\"25\",\"boundingBox\":{\"x\":512,\"y\":330,\"w\":80,\"h\":152},\"classifications\":[{\"confidence\":0.9588481,\"label\":\"product\"}]},{\"id\":\"26\",\"boundingBox\":{\"x\":1295,\"y\":792,\"w\":79,\"h\":157},\"classifications\":[{\"confidence\":0.9576062,\"label\":\"product\"}]},{\"id\":\"27\",\"boundingBox\":{\"x\":1656,\"y\":518,\"w\":88,\"h\":176},\"classifications\":[{\"confidence\":0.9571284,\"label\":\"product\"}]},{\"id\":\"28\",\"boundingBox\":{\"x\":1643,\"y\":773,\"w\":90,\"h\":170},\"classifications\":[{\"confidence\":0.95699644,\"label\":\"product\"}]},{\"id\":\"29\",\"boundingBox\":{\"x\":546,\"y\":563,\"w\":79,\"h\":150},\"classifications\":[{\"confidence\":0.95661443,\"label\":\"product\"}]},{\"id\":\"30\",\"boundingBox\":{\"x\":1235,\"y\":1035,\"w\":92,\"h\":155},\"classifications\":[{\"confidence\":0.95648944,\"label\":\"product\"}]},{\"id\":\"31\",\"boundingBox\":{\"x\":179,\"y\":339,\"w\":77,\"h\":149},\"classifications\":[{\"confidence\":0.95648617,\"label\":\"product\"}]},{\"id\":\"32\",\"boundingBox\":{\"x\":152,\"y\":1275,\"w\":147,\"h\":128},\"classifications\":[{\"confidence\":0.95639783,\"label\":\"product\"}]},{\"id\":\"33\",\"boundingBox\":{\"x\":627,\"y\":563,\"w\":75,\"h\":149},\"classifications\":[{\"confidence\":0.9556333,\"label\":\"product\"}]},{\"id\":\"34\",\"boundingBox\":{\"x\":700,\"y\":570,\"w\":87,\"h\":140},\"classifications\":[{\"confidence\":0.95542866,\"label\":\"product\"}]},{\"id\":\"35\",\"boundingBox\":{\"x\":1727,\"y\":772,\"w\":90,\"h\":171},\"classifications\":[{\"confidence\":0.95482194,\"label\":\"product\"}]},{\"id\":\"36\",\"boundingBox\":{\"x\":89,\"y\":91,\"w\":82,\"h\":167},\"classifications\":[{\"confidence\":0.9544781,\"label\":\"product\"}]},{\"id\":\"37\",\"boundingBox\":{\"x\":473,\"y\":565,\"w\":75,\"h\":149},\"classifications\":[{\"confidence\":0.9542305,\"label\":\"product\"}]},{\"id\":\"38\",\"boundingBox\":{\"x\":589,\"y\":326,\"w\":82,\"h\":152},\"classifications\":[{\"confidence\":0.95399123,\"label\":\"product\"}]},{\"id\":\"39\",\"boundingBox\":{\"x\":1553,\"y\":38,\"w\":87,\"h\":183},\"classifications\":[{\"confidence\":0.95385677,\"label\":\"product\"}]},{\"id\":\"40\",\"boundingBox\":{\"x\":1584,\"y\":1023,\"w\":80,\"h\":165},\"classifications\":[{\"confidence\":0.9538065,\"label\":\"product\"}]},{\"id\":\"41\",\"boundingBox\":{\"x\":327,\"y\":96,\"w\":78,\"h\":154},\"classifications\":[{\"confidence\":0.95367867,\"label\":\"product\"}]},{\"id\":\"42\",\"boundingBox\":{\"x\":121,\"y\":819,\"w\":78,\"h\":142},\"classifications\":[{\"confidence\":0.95312995,\"label\":\"product\"}]},{\"id\":\"43\",\"boundingBox\":{\"x\":1414,\"y\":1035,\"w\":90,\"h\":154},\"classifications\":[{\"confidence\":0.95290154,\"label\":\"product\"}]},{\"id\":\"44\",\"boundingBox\":{\"x\":890,\"y\":1248,\"w\":79,\"h\":146},\"classifications\":[{\"confidence\":0.9528341,\"label\":\"product\"}]},{\"id\":\"45\",\"boundingBox\":{\"x\":1119,\"y\":814,\"w\":81,\"h\":138},\"classifications\":[{\"confidence\":0.9528008,\"label\":\"product\"}]},{\"id\":\"46\",\"boundingBox\":{\"x\":568,\"y\":820,\"w\":158,\"h\":137},\"classifications\":[{\"confidence\":0.9522766,\"label\":\"product\"}]},{\"id\":\"47\",\"boundingBox\":{\"x\":171,\"y\":89,\"w\":82,\"h\":168},\"classifications\":[{\"confidence\":0.9522536,\"label\":\"product\"}]},{\"id\":\"48\",\"boundingBox\":{\"x\":1025,\"y\":815,\"w\":90,\"h\":139},\"classifications\":[{\"confidence\":0.9522122,\"label\":\"product\"}]},{\"id\":\"49\",\"boundingBox\":{\"x\":400,\"y\":567,\"w\":75,\"h\":147},\"classifications\":[{\"confidence\":0.9519152,\"label\":\"product\"}]},{\"id\":\"50\",\"boundingBox\":{\"x\":1666,\"y\":1257,\"w\":176,\"h\":147},\"classifications\":[{\"confidence\":0.9517424,\"label\":\"product\"}]},{\"id\":\"51\",\"boundingBox\":{\"x\":405,\"y\":93,\"w\":87,\"h\":155},\"classifications\":[{\"confidence\":0.9513032,\"label\":\"product\"}]},{\"id\":\"52\",\"boundingBox\":{\"x\":281,\"y\":1057,\"w\":151,\"h\":140},\"classifications\":[{\"confidence\":0.95120794,\"label\":\"product\"}]},{\"id\":\"53\",\"boundingBox\":{\"x\":1638,\"y\":36,\"w\":86,\"h\":185},\"classifications\":[{\"confidence\":0.950774,\"label\":\"product\"}]},{\"id\":\"54\",\"boundingBox\":{\"x\":1057,\"y\":1034,\"w\":86,\"h\":151},\"classifications\":[{\"confidence\":0.95031583,\"label\":\"product\"}]},{\"id\":\"55\",\"boundingBox\":{\"x\":1505,\"y\":1025,\"w\":81,\"h\":165},\"classifications\":[{\"confidence\":0.9502554,\"label\":\"product\"}]},{\"id\":\"56\",\"boundingBox\":{\"x\":969,\"y\":1246,\"w\":80,\"h\":149},\"classifications\":[{\"confidence\":0.9492909,\"label\":\"product\"}]},{\"id\":\"57\",\"boundingBox\":{\"x\":1143,\"y\":1039,\"w\":91,\"h\":150},\"classifications\":[{\"confidence\":0.9490056,\"label\":\"product\"}]},{\"id\":\"58\",\"boundingBox\":{\"x\":573,\"y\":90,\"w\":84,\"h\":159},\"classifications\":[{\"confidence\":0.9485221,\"label\":\"product\"}]},{\"id\":\"59\",\"boundingBox\":{\"x\":583,\"y\":1237,\"w\":138,\"h\":81},\"classifications\":[{\"confidence\":0.94830817,\"label\":\"product\"}]},{\"id\":\"60\",\"boundingBox\":{\"x\":731,\"y\":820,\"w\":137,\"h\":135},\"classifications\":[{\"confidence\":0.9481077,\"label\":\"product\"}]},{\"id\":\"61\",\"boundingBox\":{\"x\":705,\"y\":118,\"w\":47,\"h\":128},\"classifications\":[{\"confidence\":0.94808805,\"label\":\"product\"}]},{\"id\":\"62\",\"boundingBox\":{\"x\":1376,\"y\":792,\"w\":80,\"h\":155},\"classifications\":[{\"confidence\":0.94748104,\"label\":\"product\"}]},{\"id\":\"63\",\"boundingBox\":{\"x\":1326,\"y\":1225,\"w\":83,\"h\":183},\"classifications\":[{\"confidence\":0.94734323,\"label\":\"product\"}]},{\"id\":\"65\",\"boundingBox\":{\"x\":1409,\"y\":1229,\"w\":85,\"h\":179},\"classifications\":[{\"confidence\":0.9464711,\"label\":\"product\"}]},{\"id\":\"66\",\"boundingBox\":{\"x\":1050,\"y\":1238,\"w\":73,\"h\":159},\"classifications\":[{\"confidence\":0.94646513,\"label\":\"product\"}]},{\"id\":\"67\",\"boundingBox\":{\"x\":1258,\"y\":90,\"w\":73,\"h\":142},\"classifications\":[{\"confidence\":0.9459133,\"label\":\"product\"}]},{\"id\":\"68\",\"boundingBox\":{\"x\":249,\"y\":99,\"w\":78,\"h\":154},\"classifications\":[{\"confidence\":0.94574136,\"label\":\"product\"}]},{\"id\":\"69\",\"boundingBox\":{\"x\":1288,\"y\":563,\"w\":67,\"h\":140},\"classifications\":[{\"confidence\":0.9448123,\"label\":\"product\"}]},{\"id\":\"70\",\"boundingBox\":{\"x\":1355,\"y\":561,\"w\":66,\"h\":140},\"classifications\":[{\"confidence\":0.9445723,\"label\":\"product\"}]},{\"id\":\"71\",\"boundingBox\":{\"x\":786,\"y\":569,\"w\":85,\"h\":139},\"classifications\":[{\"confidence\":0.9443139,\"label\":\"product\"}]},{\"id\":\"72\",\"boundingBox\":{\"x\":157,\"y\":1038,\"w\":136,\"h\":129},\"classifications\":[{\"confidence\":0.94429696,\"label\":\"product\"}]},{\"id\":\"73\",\"boundingBox\":{\"x\":1326,\"y\":1035,\"w\":90,\"h\":153},\"classifications\":[{\"confidence\":0.9439002,\"label\":\"product\"}]},{\"id\":\"74\",\"boundingBox\":{\"x\":1108,\"y\":88,\"w\":75,\"h\":144},\"classifications\":[{\"confidence\":0.94354194,\"label\":\"product\"}]},{\"id\":\"75\",\"boundingBox\":{\"x\":1123,\"y\":1237,\"w\":74,\"h\":161},\"classifications\":[{\"confidence\":0.94348335,\"label\":\"product\"}]},{\"id\":\"76\",\"boundingBox\":{\"x\":800,\"y\":76,\"w\":79,\"h\":165},\"classifications\":[{\"confidence\":0.943271,\"label\":\"product\"}]},{\"id\":\"77\",\"boundingBox\":{\"x\":751,\"y\":118,\"w\":48,\"h\":127},\"classifications\":[{\"confidence\":0.942727,\"label\":\"product\"}]},{\"id\":\"78\",\"boundingBox\":{\"x\":937,\"y\":818,\"w\":85,\"h\":136},\"classifications\":[{\"confidence\":0.9422563,\"label\":\"product\"}]},{\"id\":\"79\",\"boundingBox\":{\"x\":1221,\"y\":562,\"w\":68,\"h\":139},\"classifications\":[{\"confidence\":0.9419658,\"label\":\"product\"}]},{\"id\":\"80\",\"boundingBox\":{\"x\":1420,\"y\":559,\"w\":66,\"h\":140},\"classifications\":[{\"confidence\":0.94176674,\"label\":\"product\"}]},{\"id\":\"81\",\"boundingBox\":{\"x\":103,\"y\":550,\"w\":77,\"h\":169},\"classifications\":[{\"confidence\":0.9405506,\"label\":\"product\"}]},{\"id\":\"82\",\"boundingBox\":{\"x\":593,\"y\":1316,\"w\":137,\"h\":80},\"classifications\":[{\"confidence\":0.9399864,\"label\":\"product\"}]},{\"id\":\"83\",\"boundingBox\":{\"x\":1264,\"y\":1230,\"w\":62,\"h\":168},\"classifications\":[{\"confidence\":0.9385371,\"label\":\"product\"}]},{\"id\":\"84\",\"boundingBox\":{\"x\":200,\"y\":816,\"w\":77,\"h\":143},\"classifications\":[{\"confidence\":0.93845105,\"label\":\"product\"}]},{\"id\":\"85\",\"boundingBox\":{\"x\":657,\"y\":117,\"w\":48,\"h\":131},\"classifications\":[{\"confidence\":0.9375719,\"label\":\"product\"}]},{\"id\":\"86\",\"boundingBox\":{\"x\":177,\"y\":549,\"w\":76,\"h\":169},\"classifications\":[{\"confidence\":0.93699276,\"label\":\"product\"}]},{\"id\":\"87\",\"boundingBox\":{\"x\":1197,\"y\":1236,\"w\":67,\"h\":163},\"classifications\":[{\"confidence\":0.93664503,\"label\":\"product\"}]},{\"id\":\"88\",\"boundingBox\":{\"x\":755,\"y\":329,\"w\":68,\"h\":147},\"classifications\":[{\"confidence\":0.9357489,\"label\":\"product\"}]},{\"id\":\"89\",\"boundingBox\":{\"x\":1478,\"y\":78,\"w\":74,\"h\":146},\"classifications\":[{\"confidence\":0.9357463,\"label\":\"product\"}]},{\"id\":\"90\",\"boundingBox\":{\"x\":1078,\"y\":330,\"w\":75,\"h\":140},\"classifications\":[{\"confidence\":0.9332713,\"label\":\"product\"}]},{\"id\":\"91\",\"boundingBox\":{\"x\":250,\"y\":571,\"w\":74,\"h\":144},\"classifications\":[{\"confidence\":0.9320591,\"label\":\"product\"}]},{\"id\":\"93\",\"boundingBox\":{\"x\":1329,\"y\":90,\"w\":76,\"h\":140},\"classifications\":[{\"confidence\":0.9279976,\"label\":\"product\"}]},{\"id\":\"94\",\"boundingBox\":{\"x\":950,\"y\":566,\"w\":86,\"h\":141},\"classifications\":[{\"confidence\":0.9270865,\"label\":\"product\"}]},{\"id\":\"95\",\"boundingBox\":{\"x\":1032,\"y\":90,\"w\":76,\"h\":141},\"classifications\":[{\"confidence\":0.9260747,\"label\":\"product\"}]},{\"id\":\"96\",\"boundingBox\":{\"x\":824,\"y\":328,\"w\":67,\"h\":146},\"classifications\":[{\"confidence\":0.9259832,\"label\":\"product\"}]},{\"id\":\"97\",\"boundingBox\":{\"x\":1183,\"y\":82,\"w\":78,\"h\":147},\"classifications\":[{\"confidence\":0.9211158,\"label\":\"product\"}]},{\"id\":\"98\",\"boundingBox\":{\"x\":998,\"y\":330,\"w\":80,\"h\":141},\"classifications\":[{\"confidence\":0.9147207,\"label\":\"product\"}]},{\"id\":\"99\",\"boundingBox\":{\"x\":879,\"y\":74,\"w\":82,\"h\":165},\"classifications\":[{\"confidence\":0.9124395,\"label\":\"product\"}]},{\"id\":\"100\",\"boundingBox\":{\"x\":0,\"y\":574,\"w\":104,\"h\":215},\"classifications\":[{\"confidence\":0.9082495,\"label\":\"product\"}]},{\"id\":\"101\",\"boundingBox\":{\"x\":866,\"y\":816,\"w\":74,\"h\":137},\"classifications\":[{\"confidence\":0.89926136,\"label\":\"product\"}]},{\"id\":\"102\",\"boundingBox\":{\"x\":734,\"y\":1285,\"w\":142,\"h\":118},\"classifications\":[{\"confidence\":0.8930405,\"label\":\"product\"}]},{\"id\":\"103\",\"boundingBox\":{\"x\":872,\"y\":748,\"w\":74,\"h\":67},\"classifications\":[{\"confidence\":0.8904763,\"label\":\"product\"}]},{\"id\":\"104\",\"boundingBox\":{\"x\":1720,\"y\":150,\"w\":144,\"h\":69},\"classifications\":[{\"confidence\":0.8842934,\"label\":\"product\"}]},{\"id\":\"105\",\"boundingBox\":{\"x\":1845,\"y\":1330,\"w\":108,\"h\":77},\"classifications\":[{\"confidence\":0.8730501,\"label\":\"product\"}]},{\"id\":\"106\",\"boundingBox\":{\"x\":1723,\"y\":81,\"w\":142,\"h\":62},\"classifications\":[{\"confidence\":0.8728468,\"label\":\"product\"}]},{\"id\":\"107\",\"boundingBox\":{\"x\":577,\"y\":1064,\"w\":137,\"h\":130},\"classifications\":[{\"confidence\":0.86943483,\"label\":\"product\"}]},{\"id\":\"108\",\"boundingBox\":{\"x\":961,\"y\":93,\"w\":76,\"h\":143},\"classifications\":[{\"confidence\":0.8594922,\"label\":\"product\"}]},{\"id\":\"109\",\"boundingBox\":{\"x\":435,\"y\":805,\"w\":87,\"h\":152},\"classifications\":[{\"confidence\":0.85645473,\"label\":\"product\"}]},{\"id\":\"110\",\"boundingBox\":{\"x\":1833,\"y\":615,\"w\":169,\"h\":183},\"classifications\":[{\"confidence\":0.8487663,\"label\":\"product\"}]},{\"id\":\"111\",\"boundingBox\":{\"x\":0,\"y\":1280,\"w\":144,\"h\":69},\"classifications\":[{\"confidence\":0.8411429,\"label\":\"product\"}]},{\"id\":\"112\",\"boundingBox\":{\"x\":0,\"y\":1349,\"w\":149,\"h\":49},\"classifications\":[{\"confidence\":0.8157532,\"label\":\"product\"}]},{\"id\":\"113\",\"boundingBox\":{\"x\":1930,\"y\":1096,\"w\":70,\"h\":170},\"classifications\":[{\"confidence\":0.8094437,\"label\":\"product\"}]},{\"id\":\"114\",\"boundingBox\":{\"x\":98,\"y\":38,\"w\":88,\"h\":51},\"classifications\":[{\"confidence\":0.78488916,\"label\":\"product\"}]},{\"id\":\"115\",\"boundingBox\":{\"x\":1864,\"y\":1096,\"w\":66,\"h\":166},\"classifications\":[{\"confidence\":0.7781305,\"label\":\"product\"}]},{\"id\":\"116\",\"boundingBox\":{\"x\":1832,\"y\":831,\"w\":171,\"h\":282},\"classifications\":[{\"confidence\":0.7349149,\"label\":\"product\"}]},{\"id\":\"117\",\"boundingBox\":{\"x\":327,\"y\":36,\"w\":77,\"h\":61},\"classifications\":[{\"confidence\":0.72933555,\"label\":\"product\"}]},{\"id\":\"119\",\"boundingBox\":{\"x\":498,\"y\":804,\"w\":72,\"h\":152},\"classifications\":[{\"confidence\":0.712094,\"label\":\"product\"}]},{\"id\":\"120\",\"boundingBox\":{\"x\":0,\"y\":1203,\"w\":121,\"h\":68},\"classifications\":[{\"confidence\":0.63946074,\"label\":\"product\"}]},{\"id\":\"121\",\"boundingBox\":{\"x\":0,\"y\":896,\"w\":123,\"h\":147},\"classifications\":[{\"confidence\":0.62361604,\"label\":\"product\"}]},{\"id\":\"123\",\"boundingBox\":{\"x\":1958,\"y\":1317,\"w\":46,\"h\":81},\"classifications\":[{\"confidence\":0.41462472,\"label\":\"product\"}]},{\"id\":\"125\",\"boundingBox\":{\"x\":1857,\"y\":55,\"w\":182,\"h\":323},\"classifications\":[{\"confidence\":0.36199877,\"label\":\"product\"}]},{\"id\":\"126\",\"boundingBox\":{\"x\":494,\"y\":981,\"w\":140,\"h\":46},\"classifications\":[{\"confidence\":0.27961102,\"label\":\"product\"}]},{\"id\":\"127\",\"boundingBox\":{\"x\":0,\"y\":1048,\"w\":127,\"h\":38},\"classifications\":[{\"confidence\":0.23039454,\"label\":\"product\"}]},{\"id\":\"128\",\"boundingBox\":{\"x\":317,\"y\":752,\"w\":130,\"h\":206},\"classifications\":[{\"confidence\":0.22470832,\"label\":\"product\"}]},{\"id\":\"129\",\"boundingBox\":{\"x\":1171,\"y\":255,\"w\":285,\"h\":210},\"classifications\":[{\"confidence\":0.19320555,\"label\":\"product\"}]},{\"id\":\"131\",\"boundingBox\":{\"x\":0,\"y\":413,\"w\":90,\"h\":122},\"classifications\":[{\"confidence\":0.1756038,\"label\":\"product\"}]},{\"id\":\"133\",\"boundingBox\":{\"x\":428,\"y\":45,\"w\":59,\"h\":50},\"classifications\":[{\"confidence\":0.10560124,\"label\":\"product\"}]}],\"gaps\":[{\"id\":\"64\",\"boundingBox\":{\"x\":1170,\"y\":252,\"w\":288,\"h\":213},\"classifications\":[{\"confidence\":0.9470624,\"label\":\"gap\"}]},{\"id\":\"92\",\"boundingBox\":{\"x\":317,\"y\":743,\"w\":114,\"h\":217},\"classifications\":[{\"confidence\":0.93194234,\"label\":\"gap\"}]},{\"id\":\"118\",\"boundingBox\":{\"x\":347,\"y\":512,\"w\":53,\"h\":201},\"classifications\":[{\"confidence\":0.72271985,\"label\":\"gap\"}]},{\"id\":\"122\",\"boundingBox\":{\"x\":974,\"y\":978,\"w\":79,\"h\":211},\"classifications\":[{\"confidence\":0.4450232,\"label\":\"gap\"}]},{\"id\":\"124\",\"boundingBox\":{\"x\":1419,\"y\":54,\"w\":56,\"h\":173},\"classifications\":[{\"confidence\":0.3671781,\"label\":\"gap\"}]},{\"id\":\"130\",\"boundingBox\":{\"x\":31,\"y\":102,\"w\":58,\"h\":159},\"classifications\":[{\"confidence\":0.17726445,\"label\":\"gap\"}]},{\"id\":\"132\",\"boundingBox\":{\"x\":471,\"y\":1221,\"w\":114,\"h\":177},\"classifications\":[{\"confidence\":0.1602021,\"label\":\"gap\"}]},{\"id\":\"134\",\"boundingBox\":{\"x\":1,\"y\":299,\"w\":96,\"h\":248},\"classifications\":[{\"confidence\":0.10161068,\"label\":\"gap\"}]}]}'\n"
     ]
    }
   ],
   "source": [
    "print(response.content)"
   ]
  },
  {
   "cell_type": "code",
   "execution_count": 77,
   "metadata": {},
   "outputs": [
    {
     "data": {
      "text/plain": [
       "dict_keys(['imageMetadata', 'products', 'gaps'])"
      ]
     },
     "execution_count": 77,
     "metadata": {},
     "output_type": "execute_result"
    }
   ],
   "source": [
    "import json\n",
    "\n",
    "#print formatted json\n",
    "# print(json.dumps(response.json(), indent=2))\n",
    "\n",
    "img_boxes = response.json()\n",
    "img_boxes.keys()\n"
   ]
  },
  {
   "cell_type": "code",
   "execution_count": 78,
   "metadata": {},
   "outputs": [],
   "source": [
    "img_metadata = img_boxes.get('imageMetadata', [])\n",
    "img_products = img_boxes.get('products', [])\n",
    "img_gaps = img_boxes.get('gaps', [])"
   ]
  },
  {
   "cell_type": "code",
   "execution_count": 79,
   "metadata": {},
   "outputs": [
    {
     "name": "stdout",
     "output_type": "stream",
     "text": [
      "8\n",
      "126\n"
     ]
    }
   ],
   "source": [
    "print(len(img_gaps))\n",
    "print(len(img_products))\n",
    "\n",
    "# print(img_gaps[0])\n",
    "\n",
    "bb_gaps = [ [(bb['boundingBox']['x'], bb['boundingBox']['y']), \n",
    "   (bb['boundingBox']['x']+bb['boundingBox']['w'], bb['boundingBox']['y']+bb['boundingBox']['h'])]\n",
    " for bb in img_gaps]"
   ]
  },
  {
   "cell_type": "code",
   "execution_count": 80,
   "metadata": {},
   "outputs": [
    {
     "name": "stdout",
     "output_type": "stream",
     "text": [
      "<class 'bytes'>\n",
      "<_io.BytesIO object at 0x0000016B06963F40>\n"
     ]
    }
   ],
   "source": [
    "# load image from url\n",
    "from PIL import Image, ImageDraw\n",
    "from io import BytesIO\n",
    "import requests\n",
    "\n",
    "img_download = requests.get(request['url'])\n",
    "\n",
    "print(type(img_download.content))\n",
    "print(BytesIO(img_download.content))\n",
    "\n",
    "# load bytes into image\n",
    "img = Image.open(BytesIO(img_download.content), 'r')\n"
   ]
  },
  {
   "cell_type": "code",
   "execution_count": 81,
   "metadata": {},
   "outputs": [],
   "source": [
    "# draw rectangles from bb_gaps\n",
    "for bb in bb_gaps:\n",
    "    ImageDraw.Draw(img).rectangle(bb, outline=\"red\", fill=\"grey\", width=5)\n",
    "    #write text ofsett from top left corner, 20px, white text, red background using arial font\n",
    "    ImageDraw.Draw(img).text(\n",
    "        (bb[0][0]+10, bb[0][1]+5), \n",
    "        'Gap', \n",
    "        fill=\"red\",\n",
    "        )    \n",
    "img.show()"
   ]
  },
  {
   "cell_type": "code",
   "execution_count": 82,
   "metadata": {},
   "outputs": [],
   "source": [
    "# # draw rectangles from bb_products in green\n",
    "# bb_products = [ [(bb['boundingBox']['x'], bb['boundingBox']['y']),\n",
    "#     (bb['boundingBox']['x']+bb['boundingBox']['w'], bb['boundingBox']['y']+bb['boundingBox']['h'])]\n",
    "#     for bb in img_products]\n",
    "\n",
    "# for bb in bb_products:\n",
    "#     ImageDraw.Draw(img).rectangle(bb, outline=\"green\", width=5)\n",
    "# img.show()\n"
   ]
  },
  {
   "attachments": {},
   "cell_type": "markdown",
   "metadata": {},
   "source": [
    "# Summarisation"
   ]
  },
  {
   "cell_type": "code",
   "execution_count": 83,
   "metadata": {},
   "outputs": [
    {
     "name": "stdout",
     "output_type": "stream",
     "text": [
      "{'id': '1', 'boundingBox': {'x': 1518, 'y': 1235, 'w': 144, 'h': 162}, 'classifications': [{'confidence': 0.9701688, 'label': 'product'}]}\n"
     ]
    },
    {
     "data": {
      "text/html": [
       "<div>\n",
       "<style scoped>\n",
       "    .dataframe tbody tr th:only-of-type {\n",
       "        vertical-align: middle;\n",
       "    }\n",
       "\n",
       "    .dataframe tbody tr th {\n",
       "        vertical-align: top;\n",
       "    }\n",
       "\n",
       "    .dataframe thead th {\n",
       "        text-align: right;\n",
       "    }\n",
       "</style>\n",
       "<table border=\"1\" class=\"dataframe\">\n",
       "  <thead>\n",
       "    <tr style=\"text-align: right;\">\n",
       "      <th></th>\n",
       "      <th>id</th>\n",
       "      <th>boundingBox</th>\n",
       "      <th>classifications</th>\n",
       "    </tr>\n",
       "  </thead>\n",
       "  <tbody>\n",
       "    <tr>\n",
       "      <th>0</th>\n",
       "      <td>1</td>\n",
       "      <td>{'x': 1518, 'y': 1235, 'w': 144, 'h': 162}</td>\n",
       "      <td>[{'confidence': 0.9701688, 'label': 'product'}]</td>\n",
       "    </tr>\n",
       "    <tr>\n",
       "      <th>1</th>\n",
       "      <td>2</td>\n",
       "      <td>{'x': 303, 'y': 1263, 'w': 147, 'h': 139}</td>\n",
       "      <td>[{'confidence': 0.96984136, 'label': 'product'}]</td>\n",
       "    </tr>\n",
       "    <tr>\n",
       "      <th>2</th>\n",
       "      <td>3</td>\n",
       "      <td>{'x': 101, 'y': 339, 'w': 79, 'h': 150}</td>\n",
       "      <td>[{'confidence': 0.96909773, 'label': 'product'}]</td>\n",
       "    </tr>\n",
       "    <tr>\n",
       "      <th>3</th>\n",
       "      <td>4</td>\n",
       "      <td>{'x': 1663, 'y': 1020, 'w': 81, 'h': 167}</td>\n",
       "      <td>[{'confidence': 0.9688566, 'label': 'product'}]</td>\n",
       "    </tr>\n",
       "    <tr>\n",
       "      <th>4</th>\n",
       "      <td>5</td>\n",
       "      <td>{'x': 429, 'y': 1056, 'w': 150, 'h': 139}</td>\n",
       "      <td>[{'confidence': 0.9686272, 'label': 'product'}]</td>\n",
       "    </tr>\n",
       "  </tbody>\n",
       "</table>\n",
       "</div>"
      ],
      "text/plain": [
       "  id                                 boundingBox  \\\n",
       "0  1  {'x': 1518, 'y': 1235, 'w': 144, 'h': 162}   \n",
       "1  2   {'x': 303, 'y': 1263, 'w': 147, 'h': 139}   \n",
       "2  3     {'x': 101, 'y': 339, 'w': 79, 'h': 150}   \n",
       "3  4   {'x': 1663, 'y': 1020, 'w': 81, 'h': 167}   \n",
       "4  5   {'x': 429, 'y': 1056, 'w': 150, 'h': 139}   \n",
       "\n",
       "                                    classifications  \n",
       "0   [{'confidence': 0.9701688, 'label': 'product'}]  \n",
       "1  [{'confidence': 0.96984136, 'label': 'product'}]  \n",
       "2  [{'confidence': 0.96909773, 'label': 'product'}]  \n",
       "3   [{'confidence': 0.9688566, 'label': 'product'}]  \n",
       "4   [{'confidence': 0.9686272, 'label': 'product'}]  "
      ]
     },
     "execution_count": 83,
     "metadata": {},
     "output_type": "execute_result"
    }
   ],
   "source": [
    "print(img_products[0])\n",
    "\n",
    "# convert to a dataframe\n",
    "import pandas as pd\n",
    "df = pd.DataFrame(img_products)\n",
    "df.head()\n"
   ]
  },
  {
   "cell_type": "markdown",
   "metadata": {},
   "source": []
  }
 ],
 "metadata": {
  "kernelspec": {
   "display_name": "base",
   "language": "python",
   "name": "python3"
  },
  "language_info": {
   "codemirror_mode": {
    "name": "ipython",
    "version": 3
   },
   "file_extension": ".py",
   "mimetype": "text/x-python",
   "name": "python",
   "nbconvert_exporter": "python",
   "pygments_lexer": "ipython3",
   "version": "3.9.16"
  },
  "orig_nbformat": 4
 },
 "nbformat": 4,
 "nbformat_minor": 2
}
