{
 "cells": [
  {
   "cell_type": "markdown",
   "metadata": {},
   "source": [
    "test examples: https://github.com/Azure/CSContainers/blob/master/Project-Archon/private-preview/Shelf-Analysis/cpg-privatepreview-api-tutorial.md "
   ]
  },
  {
   "cell_type": "code",
   "execution_count": 1,
   "metadata": {},
   "outputs": [],
   "source": [
    "import os \n",
    "from urllib.parse import urljoin"
   ]
  },
  {
   "cell_type": "code",
   "execution_count": 2,
   "metadata": {},
   "outputs": [],
   "source": [
    "api_endpoint = os.environ.get('api_endpoint', 'https://<region>.api.cognitive.microsoft.com/')\n",
    "api_key = os.environ.get('api_key', '12233344445555566666677777779999')\n",
    "\n",
    "\n",
    "api_datasets = '/vision/v4.0-preview.1/datasets'\n",
    "api_imagenalysis = '/vision/v4.0-preview.1/operations/shelfanalysis-productunderstanding:analyze'\n",
    "api_imagerectify = '/vision/v4.0-preview.1/operations/shelfanalysis-productunderstanding:rectify'\n",
    "\n",
    "\n",
    "stitched_image = 'https://godzillasinastorage.blob.core.windows.net/cv4/stitched-rectified2.png'\n",
    "long_shelve = 'https://godzillasinastorage.blob.core.windows.net/cv4/long_shelve.jpg'"
   ]
  },
  {
   "cell_type": "code",
   "execution_count": 3,
   "metadata": {},
   "outputs": [],
   "source": [
    "# image analysis \n",
    "# https://github.com/Azure/CSContainers/blob/master/Project-Archon/private-preview/Shelf-Analysis/cpg-privatepreview-apis-operations.md#v40-preview1operationsshelfanalysis-productunderstandinganalyze\n",
    "\n",
    "import requests\n",
    "request = {\n",
    "             \"url\": stitched_image\n",
    "}\n",
    "\n",
    "api_endpoint = 'https://eastus.api.cognitive.microsoft.com/vision/v4.0-preview.1/operations/shelfanalysis-productunderstanding:analyze'\n",
    "# post request to imageanaylsis\n",
    "response = requests.post(urljoin(api_endpoint,api_imagenalysis), headers={'Ocp-Apim-Subscription-Key': api_key}, json=request)\n"
   ]
  },
  {
   "cell_type": "code",
   "execution_count": 4,
   "metadata": {},
   "outputs": [
    {
     "name": "stdout",
     "output_type": "stream",
     "text": [
      "b'{\"error\":{\"code\":\"InvalidRequest\",\"message\":\"The provided image url can not be accessed. status code: 409.\"}}'\n"
     ]
    }
   ],
   "source": [
    "print(response.content)"
   ]
  },
  {
   "cell_type": "code",
   "execution_count": 5,
   "metadata": {},
   "outputs": [
    {
     "data": {
      "text/plain": [
       "dict_keys(['error'])"
      ]
     },
     "execution_count": 5,
     "metadata": {},
     "output_type": "execute_result"
    }
   ],
   "source": [
    "import json\n",
    "\n",
    "#print formatted json\n",
    "# print(json.dumps(response.json(), indent=2))\n",
    "\n",
    "img_boxes = response.json()\n",
    "img_boxes.keys()\n"
   ]
  },
  {
   "cell_type": "code",
   "execution_count": 6,
   "metadata": {},
   "outputs": [],
   "source": [
    "img_metadata = img_boxes.get('imageMetadata', [])\n",
    "img_products = img_boxes.get('products', [])\n",
    "img_gaps = img_boxes.get('gaps', [])"
   ]
  },
  {
   "cell_type": "code",
   "execution_count": 7,
   "metadata": {},
   "outputs": [
    {
     "name": "stdout",
     "output_type": "stream",
     "text": [
      "8\n",
      "126\n"
     ]
    }
   ],
   "source": [
    "print(len(img_gaps))\n",
    "print(len(img_products))\n",
    "\n",
    "# print(img_gaps[0])\n",
    "\n",
    "bb_gaps = [ [(bb['boundingBox']['x'], bb['boundingBox']['y']), \n",
    "   (bb['boundingBox']['x']+bb['boundingBox']['w'], bb['boundingBox']['y']+bb['boundingBox']['h'])]\n",
    " for bb in img_gaps]"
   ]
  },
  {
   "cell_type": "code",
   "execution_count": 1,
   "metadata": {},
   "outputs": [
    {
     "ename": "NameError",
     "evalue": "name 'request' is not defined",
     "output_type": "error",
     "traceback": [
      "\u001b[1;31m---------------------------------------------------------------------------\u001b[0m",
      "\u001b[1;31mNameError\u001b[0m                                 Traceback (most recent call last)",
      "Cell \u001b[1;32mIn[1], line 6\u001b[0m\n\u001b[0;32m      3\u001b[0m \u001b[39mfrom\u001b[39;00m \u001b[39mio\u001b[39;00m \u001b[39mimport\u001b[39;00m BytesIO\n\u001b[0;32m      4\u001b[0m \u001b[39mimport\u001b[39;00m \u001b[39mrequests\u001b[39;00m\n\u001b[1;32m----> 6\u001b[0m img_download \u001b[39m=\u001b[39m requests\u001b[39m.\u001b[39mget(request[\u001b[39m'\u001b[39m\u001b[39murl\u001b[39m\u001b[39m'\u001b[39m])\n\u001b[0;32m      8\u001b[0m \u001b[39mprint\u001b[39m(\u001b[39mtype\u001b[39m(img_download\u001b[39m.\u001b[39mcontent))\n\u001b[0;32m      9\u001b[0m \u001b[39mprint\u001b[39m(BytesIO(img_download\u001b[39m.\u001b[39mcontent))\n",
      "\u001b[1;31mNameError\u001b[0m: name 'request' is not defined"
     ]
    }
   ],
   "source": [
    "# load image from url\n",
    "from PIL import Image, ImageDraw\n",
    "from io import BytesIO\n",
    "import requests\n",
    "\n",
    "img_download = requests.get(request['url'])\n",
    "\n",
    "print(type(img_download.content))\n",
    "print(BytesIO(img_download.content))\n",
    "\n",
    "# load bytes into image\n",
    "img = Image.open(BytesIO(img_download.content), 'r')\n"
   ]
  },
  {
   "cell_type": "code",
   "execution_count": 9,
   "metadata": {},
   "outputs": [],
   "source": [
    "# draw rectangles from bb_gaps\n",
    "for bb in bb_gaps:\n",
    "    ImageDraw.Draw(img).rectangle(bb, outline=\"red\", fill=\"grey\", width=5)\n",
    "    #write text ofsett from top left corner, 20px, white text, red background using arial font\n",
    "    ImageDraw.Draw(img).text(\n",
    "        (bb[0][0]+10, bb[0][1]+5), \n",
    "        'Gap', \n",
    "        fill=\"red\",\n",
    "        )    \n",
    "img.show()"
   ]
  },
  {
   "cell_type": "code",
   "execution_count": 10,
   "metadata": {},
   "outputs": [],
   "source": [
    "# # draw rectangles from bb_products in green\n",
    "# bb_products = [ [(bb['boundingBox']['x'], bb['boundingBox']['y']),\n",
    "#     (bb['boundingBox']['x']+bb['boundingBox']['w'], bb['boundingBox']['y']+bb['boundingBox']['h'])]\n",
    "#     for bb in img_products]\n",
    "\n",
    "# for bb in bb_products:\n",
    "#     ImageDraw.Draw(img).rectangle(bb, outline=\"green\", width=5)\n",
    "# img.show()\n"
   ]
  },
  {
   "attachments": {},
   "cell_type": "markdown",
   "metadata": {},
   "source": [
    "# Summarisation"
   ]
  },
  {
   "cell_type": "code",
   "execution_count": 11,
   "metadata": {},
   "outputs": [
    {
     "name": "stdout",
     "output_type": "stream",
     "text": [
      "{'id': '1', 'boundingBox': {'x': 1518, 'y': 1235, 'w': 144, 'h': 162}, 'classifications': [{'confidence': 0.9701688, 'label': 'product'}]}\n"
     ]
    },
    {
     "data": {
      "text/html": [
       "<div>\n",
       "<style scoped>\n",
       "    .dataframe tbody tr th:only-of-type {\n",
       "        vertical-align: middle;\n",
       "    }\n",
       "\n",
       "    .dataframe tbody tr th {\n",
       "        vertical-align: top;\n",
       "    }\n",
       "\n",
       "    .dataframe thead th {\n",
       "        text-align: right;\n",
       "    }\n",
       "</style>\n",
       "<table border=\"1\" class=\"dataframe\">\n",
       "  <thead>\n",
       "    <tr style=\"text-align: right;\">\n",
       "      <th></th>\n",
       "      <th>id</th>\n",
       "      <th>boundingBox</th>\n",
       "      <th>classifications</th>\n",
       "    </tr>\n",
       "  </thead>\n",
       "  <tbody>\n",
       "    <tr>\n",
       "      <th>0</th>\n",
       "      <td>1</td>\n",
       "      <td>{'x': 1518, 'y': 1235, 'w': 144, 'h': 162}</td>\n",
       "      <td>[{'confidence': 0.9701688, 'label': 'product'}]</td>\n",
       "    </tr>\n",
       "    <tr>\n",
       "      <th>1</th>\n",
       "      <td>2</td>\n",
       "      <td>{'x': 303, 'y': 1263, 'w': 147, 'h': 139}</td>\n",
       "      <td>[{'confidence': 0.96984136, 'label': 'product'}]</td>\n",
       "    </tr>\n",
       "    <tr>\n",
       "      <th>2</th>\n",
       "      <td>3</td>\n",
       "      <td>{'x': 101, 'y': 339, 'w': 79, 'h': 150}</td>\n",
       "      <td>[{'confidence': 0.96909785, 'label': 'product'}]</td>\n",
       "    </tr>\n",
       "    <tr>\n",
       "      <th>3</th>\n",
       "      <td>4</td>\n",
       "      <td>{'x': 1663, 'y': 1020, 'w': 81, 'h': 167}</td>\n",
       "      <td>[{'confidence': 0.9688566, 'label': 'product'}]</td>\n",
       "    </tr>\n",
       "    <tr>\n",
       "      <th>4</th>\n",
       "      <td>5</td>\n",
       "      <td>{'x': 429, 'y': 1056, 'w': 150, 'h': 139}</td>\n",
       "      <td>[{'confidence': 0.9686272, 'label': 'product'}]</td>\n",
       "    </tr>\n",
       "  </tbody>\n",
       "</table>\n",
       "</div>"
      ],
      "text/plain": [
       "  id                                 boundingBox  \\\n",
       "0  1  {'x': 1518, 'y': 1235, 'w': 144, 'h': 162}   \n",
       "1  2   {'x': 303, 'y': 1263, 'w': 147, 'h': 139}   \n",
       "2  3     {'x': 101, 'y': 339, 'w': 79, 'h': 150}   \n",
       "3  4   {'x': 1663, 'y': 1020, 'w': 81, 'h': 167}   \n",
       "4  5   {'x': 429, 'y': 1056, 'w': 150, 'h': 139}   \n",
       "\n",
       "                                    classifications  \n",
       "0   [{'confidence': 0.9701688, 'label': 'product'}]  \n",
       "1  [{'confidence': 0.96984136, 'label': 'product'}]  \n",
       "2  [{'confidence': 0.96909785, 'label': 'product'}]  \n",
       "3   [{'confidence': 0.9688566, 'label': 'product'}]  \n",
       "4   [{'confidence': 0.9686272, 'label': 'product'}]  "
      ]
     },
     "execution_count": 11,
     "metadata": {},
     "output_type": "execute_result"
    }
   ],
   "source": [
    "print(img_products[0])\n",
    "\n",
    "# convert to a dataframe\n",
    "import pandas as pd\n",
    "df = pd.DataFrame(img_products)\n",
    "df.head()\n"
   ]
  },
  {
   "cell_type": "markdown",
   "metadata": {},
   "source": []
  },
  {
   "cell_type": "code",
   "execution_count": 12,
   "metadata": {},
   "outputs": [
    {
     "data": {
      "text/html": [
       "<div>\n",
       "<style scoped>\n",
       "    .dataframe tbody tr th:only-of-type {\n",
       "        vertical-align: middle;\n",
       "    }\n",
       "\n",
       "    .dataframe tbody tr th {\n",
       "        vertical-align: top;\n",
       "    }\n",
       "\n",
       "    .dataframe thead th {\n",
       "        text-align: right;\n",
       "    }\n",
       "</style>\n",
       "<table border=\"1\" class=\"dataframe\">\n",
       "  <thead>\n",
       "    <tr style=\"text-align: right;\">\n",
       "      <th></th>\n",
       "      <th>id</th>\n",
       "      <th>boundingBox</th>\n",
       "      <th>classifications</th>\n",
       "      <th>label</th>\n",
       "      <th>confidence</th>\n",
       "    </tr>\n",
       "  </thead>\n",
       "  <tbody>\n",
       "    <tr>\n",
       "      <th>0</th>\n",
       "      <td>1</td>\n",
       "      <td>{'x': 1518, 'y': 1235, 'w': 144, 'h': 162}</td>\n",
       "      <td>[{'confidence': 0.9701688, 'label': 'product'}]</td>\n",
       "      <td>product</td>\n",
       "      <td>0.970169</td>\n",
       "    </tr>\n",
       "    <tr>\n",
       "      <th>1</th>\n",
       "      <td>2</td>\n",
       "      <td>{'x': 303, 'y': 1263, 'w': 147, 'h': 139}</td>\n",
       "      <td>[{'confidence': 0.96984136, 'label': 'product'}]</td>\n",
       "      <td>product</td>\n",
       "      <td>0.969841</td>\n",
       "    </tr>\n",
       "    <tr>\n",
       "      <th>2</th>\n",
       "      <td>3</td>\n",
       "      <td>{'x': 101, 'y': 339, 'w': 79, 'h': 150}</td>\n",
       "      <td>[{'confidence': 0.96909785, 'label': 'product'}]</td>\n",
       "      <td>product</td>\n",
       "      <td>0.969098</td>\n",
       "    </tr>\n",
       "    <tr>\n",
       "      <th>3</th>\n",
       "      <td>4</td>\n",
       "      <td>{'x': 1663, 'y': 1020, 'w': 81, 'h': 167}</td>\n",
       "      <td>[{'confidence': 0.9688566, 'label': 'product'}]</td>\n",
       "      <td>product</td>\n",
       "      <td>0.968857</td>\n",
       "    </tr>\n",
       "    <tr>\n",
       "      <th>4</th>\n",
       "      <td>5</td>\n",
       "      <td>{'x': 429, 'y': 1056, 'w': 150, 'h': 139}</td>\n",
       "      <td>[{'confidence': 0.9686272, 'label': 'product'}]</td>\n",
       "      <td>product</td>\n",
       "      <td>0.968627</td>\n",
       "    </tr>\n",
       "  </tbody>\n",
       "</table>\n",
       "</div>"
      ],
      "text/plain": [
       "  id                                 boundingBox  \\\n",
       "0  1  {'x': 1518, 'y': 1235, 'w': 144, 'h': 162}   \n",
       "1  2   {'x': 303, 'y': 1263, 'w': 147, 'h': 139}   \n",
       "2  3     {'x': 101, 'y': 339, 'w': 79, 'h': 150}   \n",
       "3  4   {'x': 1663, 'y': 1020, 'w': 81, 'h': 167}   \n",
       "4  5   {'x': 429, 'y': 1056, 'w': 150, 'h': 139}   \n",
       "\n",
       "                                    classifications    label  confidence  \n",
       "0   [{'confidence': 0.9701688, 'label': 'product'}]  product    0.970169  \n",
       "1  [{'confidence': 0.96984136, 'label': 'product'}]  product    0.969841  \n",
       "2  [{'confidence': 0.96909785, 'label': 'product'}]  product    0.969098  \n",
       "3   [{'confidence': 0.9688566, 'label': 'product'}]  product    0.968857  \n",
       "4   [{'confidence': 0.9686272, 'label': 'product'}]  product    0.968627  "
      ]
     },
     "execution_count": 12,
     "metadata": {},
     "output_type": "execute_result"
    }
   ],
   "source": [
    "# classifications is a list of dict as follows [{'confidence': 0.9701688, 'label': 'product'}], extract the label and confidence into their own columns\n",
    "df['label'] = df['classifications'].apply(lambda x: x[0]['label'])\n",
    "df['confidence'] = df['classifications'].apply(lambda x: x[0]['confidence'])\n",
    "df.head()\n"
   ]
  },
  {
   "cell_type": "code",
   "execution_count": 13,
   "metadata": {},
   "outputs": [
    {
     "data": {
      "text/plain": [
       "product    126\n",
       "Name: label, dtype: int64"
      ]
     },
     "execution_count": 13,
     "metadata": {},
     "output_type": "execute_result"
    }
   ],
   "source": [
    "# summarise product counts\n",
    "df['label'].value_counts()\n"
   ]
  },
  {
   "cell_type": "code",
   "execution_count": null,
   "metadata": {},
   "outputs": [],
   "source": []
  }
 ],
 "metadata": {
  "kernelspec": {
   "display_name": "base",
   "language": "python",
   "name": "python3"
  },
  "language_info": {
   "codemirror_mode": {
    "name": "ipython",
    "version": 3
   },
   "file_extension": ".py",
   "mimetype": "text/x-python",
   "name": "python",
   "nbconvert_exporter": "python",
   "pygments_lexer": "ipython3",
   "version": "3.10.4"
  },
  "orig_nbformat": 4
 },
 "nbformat": 4,
 "nbformat_minor": 2
}
